{
 "metadata": {
  "kernelspec": {
   "display_name": "Python 3",
   "language": "python",
   "name": "python3"
  },
  "language_info": {
   "codemirror_mode": {
    "name": "ipython",
    "version": 3
   },
   "file_extension": ".py",
   "mimetype": "text/x-python",
   "name": "python",
   "nbconvert_exporter": "python",
   "pygments_lexer": "ipython3",
   "version": "3.4.3"
  },
  "name": "",
  "signature": "sha256:18ce606205e6e1d013cd8b87328a3fa85a1807df991c518142083a3c09f0ef93"
 },
 "nbformat": 3,
 "nbformat_minor": 0,
 "worksheets": [
  {
   "cells": [
    {
     "cell_type": "markdown",
     "metadata": {
      "collapsed": true
     },
     "source": [
      "Un pendu pour se rassurer\n",
      "=========================\n",
      "\n",
      "R\u00e9ouvrir la page principale\n",
      "---------------------------\n",
      "\n",
      "[Cliquer ici](../main.ipynb)\n",
      "\n",
      "\n",
      "\u00c0 vous de jouer : traduire un algorithme en Python\n",
      "--------------------------------------------------\n",
      "\n",
      "Redonnons l'algorithme qui \u00e9tait propos\u00e9."
     ]
    },
    {
     "cell_type": "raw",
     "metadata": {
      "collapsed": false
     },
     "source": [
      "# Deux variables g\u00e9n\u00e9rales modifiables sans probl\u00e8me.\n",
      "MOT_A_DECOUVRIR = \"strangulation\"  # Mot en minuscules obligatoirement !\n",
      "NBRE_MAX_ESSAIS = 10\n",
      "\n",
      "# D\u00e9but de la partie.\n",
      "lettres_trouvees = Ensemble vide\n",
      "nbre_essais = 1\n",
      "a_gagne = FAUX\n",
      "\n",
      "Tant que a_gagne = FAUX et nbre_essais <= NBRE_MAX_ESSAIS:\n",
      "    # On indique au joueur o\u00f9 il en est.\n",
      "    # Ci-dessous, \"\" d\u00e9finit un texte vide.\n",
      "    infos_mots = \"\"\n",
      "    \n",
      "    Pour chaque caract\u00e8re cara obtenu en parcourant MOT_A_DECOUVRIR\n",
      "    de gauche \u00e0 droite:\n",
      "        Si cara est dans l'ensemble lettres_trouvees:\n",
      "            Ajouter cara \u00e0 infos_mots\n",
      "        Sinon:\n",
      "            Ajouter le caract\u00e8re tiret \u00e0 infos_mots\n",
      "    \n",
      "    Afficher \"Essai n\u00b0\", nbre_essais, \"sur\", NBRE_MAX_ESSAIS\n",
      "    Afficher \"Mots \u00e0 trouver :\", infos_mots   \n",
      "\n",
      "    # On interroge le joueur.\n",
      "    Demander au joueur une lettre ou un mot.\n",
      "    Stocker sa r\u00e9ponse dans la variable une_proposition.\n",
      "    Mettre le contenu de une_proposition tout en minuscule.\n",
      "\n",
      "    # Une lettre du mot a \u00e9t\u00e9 trouv\u00e9e.\n",
      "    Si une_proposition est de longueur 1 et une_proposition\n",
      "    appara\u00eet dans le texte MOT_A_DECOUVRIR:\n",
      "        Afficher \"Une nouvelle lettre trouv\u00e9e.\"\n",
      "        Ajouter la lettre une_proposition \u00e0 l'ensemble \n",
      "        lettres_trouvees.\n",
      "        \n",
      "    # Une lettre n'a pas \u00e9t\u00e9 trouv\u00e9e. On consid\u00e8re dans \n",
      "    # ce cas que le joueur propose une r\u00e9ponse (on ne\n",
      "    # g\u00e8re pas les erreurs de saisie).\n",
      "    Sinon Si une_proposition = MOT_A_DECOUVRIR:\n",
      "        a_gagne = VRAI\n",
      "        \n",
      "    # Un esai de plus a \u00e9t\u00e9 effectu\u00e9.\n",
      "    nbre_essais = nbre_essais + 1\n",
      "\n",
      "# Tous les essais ont \u00e9t\u00e9 tent\u00e9s, et/ou le joueur a gagn\u00e9.\n",
      "Si a_gagne = VRAI:\n",
      "    Afficher \"Bravo ! Vous avez gagn\u00e9. Le mot \u00e9tait bien :\"\n",
      "Sinon:\n",
      "    Afficher \"Perdu ! Le mot \u00e9tait :\"\n",
      "\n",
      "Afficher MOT_A_DECOUVRIR"
     ]
    },
    {
     "cell_type": "markdown",
     "metadata": {},
     "source": [
      "Voici une traduction directe obtenue en faisant un copier-coller du texte pr\u00e9c\u00e9dent puis ensuite en traduisant les instructions dans le langage Python."
     ]
    },
    {
     "cell_type": "code",
     "collapsed": false,
     "input": [
      "# Deux variables g\u00e9n\u00e9rales modifiables sans probl\u00e8me.\n",
      "MOT_A_DECOUVRIR = \"strangulation\"\n",
      "NBRE_MAX_ESSAIS = 10\n",
      "\n",
      "# D\u00e9but de la partie.\n",
      "lettres_trouvees = set()\n",
      "nbre_essais = 1\n",
      "a_gagne = False\n",
      "\n",
      "while(a_gagne == False and nbre_essais <= NBRE_MAX_ESSAIS):\n",
      "    # On indique au joueur o\u00f9 il en est.\n",
      "    infos_mots = \"\" \n",
      "    \n",
      "    for cara in MOT_A_DECOUVRIR:\n",
      "        if cara in lettres_trouvees:\n",
      "            infos_mots = infos_mots + cara\n",
      "        else:\n",
      "            infos_mots = infos_mots + \"-\"\n",
      "            \n",
      "    print(\"\") # Ligne ajout\u00e9e pour la lisibilit\u00e9 !!!\n",
      "\n",
      "    print(\"Essai n\u00b0\", nbre_essais, \"sur\", NBRE_MAX_ESSAIS)\n",
      "    print(\"Mots \u00e0 trouver :\", infos_mots)\n",
      "\n",
      "    # On interroge le joueur.\n",
      "    une_proposition = input(\"Proposer une lettre ou un mot : \")\n",
      "    une_proposition = une_proposition.lower()\n",
      "\n",
      "    # Une lettre du mot a \u00e9t\u00e9 trouv\u00e9e.\n",
      "    if len(une_proposition) == 1 and une_proposition in MOT_A_DECOUVRIR:\n",
      "        print(\"Une nouvelle lettre trouv\u00e9e.\")\n",
      "        lettres_trouvees.add(une_proposition)\n",
      "        \n",
      "    # Une lettre n'a pas \u00e9t\u00e9 trouv\u00e9e. On consid\u00e8re dans \n",
      "    # ce cas que le joueur propose une r\u00e9ponse (on ne\n",
      "    # g\u00e8re pas les erreurs de saisie).\n",
      "    elif une_proposition == MOT_A_DECOUVRIR:\n",
      "        a_gagne = True\n",
      "        \n",
      "    # Un esaie de plus a \u00e9t\u00e9 effectu\u00e9.\n",
      "    nbre_essais = nbre_essais + 1\n",
      "\n",
      "# Tous les essais ont \u00e9t\u00e9 tent\u00e9s, et/ou le joueur a gagn\u00e9\n",
      "# la partie.\n",
      "if a_gagne == True:\n",
      "    print(\"Bravo ! Vous avez gagn\u00e9. Le mot \u00e9tait bien :\")\n",
      "else:\n",
      "    print(\"Perdu ! Le mot \u00e9tait :\")\n",
      "\n",
      "print(MOT_A_DECOUVRIR)"
     ],
     "language": "python",
     "metadata": {},
     "outputs": [
      {
       "output_type": "stream",
       "stream": "stdout",
       "text": [
        "\n",
        "Essai n\u00b0 1 sur 10\n",
        "Mots \u00e0 trouver : -------------\n",
        "Proposer une lettre ou un mot : s\n",
        "Une nouvelle lettre trouv\u00e9e.\n",
        "\n",
        "Essai n\u00b0 2 sur 10\n",
        "Mots \u00e0 trouver : s------------\n",
        "Proposer une lettre ou un mot : a\n",
        "Une nouvelle lettre trouv\u00e9e.\n",
        "\n",
        "Essai n\u00b0 3 sur 10\n",
        "Mots \u00e0 trouver : s--a----a----\n",
        "Proposer une lettre ou un mot : u\n",
        "Une nouvelle lettre trouv\u00e9e.\n",
        "\n",
        "Essai n\u00b0 4 sur 10\n",
        "Mots \u00e0 trouver : s--a--u-a----\n",
        "Proposer une lettre ou un mot : saturdaynight\n",
        "\n",
        "Essai n\u00b0 5 sur 10\n",
        "Mots \u00e0 trouver : s--a--u-a----\n",
        "Proposer une lettre ou un mot : strangulation\n",
        "Bravo ! Vous avez gagn\u00e9. Le mot \u00e9tait bien :\n",
        "strangulation\n"
       ]
      }
     ],
     "prompt_number": 1
    }
   ],
   "metadata": {}
  }
 ]
}