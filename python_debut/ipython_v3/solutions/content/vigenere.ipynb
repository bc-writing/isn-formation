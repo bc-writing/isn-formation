{
 "metadata": {
  "kernelspec": {
   "display_name": "Python 3",
   "language": "python",
   "name": "python3"
  },
  "language_info": {
   "codemirror_mode": {
    "name": "ipython",
    "version": 3
   },
   "file_extension": ".py",
   "mimetype": "text/x-python",
   "name": "python",
   "nbconvert_exporter": "python",
   "pygments_lexer": "ipython3",
   "version": "3.4.3"
  },
  "name": "",
  "signature": "sha256:81a9cf2d8f736daf9741ec03e486d9d8d4e1e76b3445dc84ffaef7014a044b6e"
 },
 "nbformat": 3,
 "nbformat_minor": 0,
 "worksheets": [
  {
   "cells": [
    {
     "cell_type": "markdown",
     "metadata": {
      "collapsed": true
     },
     "source": [
      "Chiffrement de Vigen\u00e8re\n",
      "=======================\n",
      "\n",
      "\n",
      "R\u00e9ouvrir la page principale\n",
      "---------------------------\n",
      "\n",
      "[Cliquer ici](../main.ipynb)\n",
      "\n",
      "\n",
      "\u00c0 vous de jouer : coder et d\u00e9coder quand on conna\u00eet la cl\u00e9\n",
      "----------------------------------------------------------\n",
      "\n",
      "### Contraintes \u00e0 suivre\n",
      "\n",
      "Redonnons les contraintes qui \u00e9taient impos\u00e9es par l'\u00e9nonc\u00e9.\n",
      "\n",
      "1. Il faut construire le tableau de Vigen\u00e8re sous forme d'un dictionnaire `TABLE_VIGENERE` dont les cl\u00e9s sont les lettres nommant les lignes, et les valeurs des dictionnaires similaires \u00e0 ceux utilis\u00e9s pour le chiffrement de C\u00e9sar. L'id\u00e9e est de pouvoir utiliser `TABLE_VIGENERE[\"l\"][\"c\"]` pour obtenir la valeur `\"n\"` qui traduit le fait que la ligne nomm\u00e9e **\"l\"** code le **\"c\"** en **\"n\"**. \n",
      "\n",
      "1. Il faut utiliser ensuite le dictionnaire \u00e0 deux niveaux `TABLE_VIGENERE` pour coder le texte contenu dans la variable `texte` en utilisant la cl\u00e9 donn\u00e9 par la variable `cle`.\n",
      "\n",
      "1. Pour finir, on doit d\u00e9coder le texte cod\u00e9 afin de v\u00e9rifier que le programme ne fait pas n'importe quoi.\n",
      "\n",
      "\n",
      "**Remarque :** l'utilisation d'une table comme ici peut \u00eatre int\u00e9ressante pour \u00e9viter de r\u00e9p\u00e9ter de faire plusieurs fois les m\u00eames calculs. On occupe plus de m\u00e9moire mais on \u00e9conomise du temps de calcul.\n",
      "\n",
      "\n",
      "### Version 1 : sans accent\n",
      "\n",
      "Dans le code suivant notez l'utilisation de la m\u00e9thode `find` des variables de type `str` qui permet ici de r\u00e9cup\u00e9rer la position d'une lettre dans l'alphabet."
     ]
    },
    {
     "cell_type": "code",
     "collapsed": false,
     "input": [
      "# ----------------------- #\n",
      "# -- TABLE DE VIGEN\u00c8RE -- #\n",
      "# ----------------------- #\n",
      "\n",
      "ALPHABET        = \"abcdefghijklmnopqrstuvwxyz\"\n",
      "TAILLE_ALPHABET = len(ALPHABET)\n",
      "\n",
      "TABLE_VIGENERE = {}\n",
      "\n",
      "for decalage in range(TAILLE_ALPHABET):\n",
      "    lettre_codante   = ALPHABET[decalage]\n",
      "    alphabet_associe = ALPHABET[decalage:] + ALPHABET[:decalage]\n",
      "    codage_associe   = {}\n",
      "\n",
      "    for i in range(TAILLE_ALPHABET):\n",
      "        lettre_claire = ALPHABET[i]\n",
      "        lettre_codee  = alphabet_associe[i]\n",
      "\n",
      "        codage_associe[lettre_claire] = lettre_codee\n",
      "\n",
      "    TABLE_VIGENERE[lettre_codante] = codage_associe\n",
      "\n",
      "\n",
      "# ------------ #\n",
      "# -- CODAGE -- #\n",
      "# ------------ #\n",
      "\n",
      "def code(texte, cle):\n",
      "    \"\"\"\n",
      "Cette fonction code un texte en utilisant le chiffrement de Vigen\u00e8re\n",
      "avec la cl\u00e9 donn\u00e9e.\n",
      "    \"\"\"\n",
      "    global TABLE_VIGENERE\n",
      "    \n",
      "    texte      = texte.lower()\n",
      "    texte_code = \"\"\n",
      "\n",
      "    for position, cara in enumerate(texte):\n",
      "        position_cle   = position % len(cle)\n",
      "        lettre_codante = cle[position_cle]\n",
      "        texte_code    += TABLE_VIGENERE[lettre_codante][cara]\n",
      "\n",
      "    return texte_code\n",
      "\n",
      "\n",
      "# -------------- #\n",
      "# -- D\u00c9CODAGE -- #\n",
      "# -------------- #\n",
      "\n",
      "def decode(texte, cle):\n",
      "    \"\"\"\n",
      "Cette fonction d\u00e9code un texte cod\u00e9 via le chiffrement de Vigen\u00e8re\n",
      "avec la cl\u00e9 donn\u00e9e.\n",
      "    \"\"\"    \n",
      "    # L'id\u00e9e est simple : on appelle code avec la cl\u00e9 \"inverse\".\n",
      "    # Par exemple, la cl\u00e9 inverse de \"abcde\" est \"azyxw\".\n",
      "\n",
      "    global ALPHABET, TAILLE_ALPHABET\n",
      "\n",
      "    cle_inverse = \"\"\n",
      "\n",
      "    for cara in cle:\n",
      "        position         = ALPHABET.find(cara)\n",
      "        position_inverse = (TAILLE_ALPHABET - position) % TAILLE_ALPHABET\n",
      "        \n",
      "        cle_inverse += ALPHABET[position_inverse]\n",
      "    \n",
      "    return code(texte, cle_inverse)        \n",
      "\n",
      "\n",
      "# ----------------- #\n",
      "# -- APPLICATION -- #\n",
      "# ----------------- #\n",
      "\n",
      "texte = \"cestlemomentdetester\"\n",
      "cle   = \"lebeautemps\"\n",
      "\n",
      "texte_code   = code(texte, cle)\n",
      "texte_decode = decode(texte_code, cle)\n",
      "\n",
      "print(\"Cl\u00e9           :\", cle)\n",
      "print(\"Texte initial :\", texte)\n",
      "print(\"Texte cod\u00e9    :\", texte_code)\n",
      "print(\"Texte d\u00e9cod\u00e9  :\", texte_decode)"
     ],
     "language": "python",
     "metadata": {},
     "outputs": [],
     "prompt_number": null
    },
    {
     "cell_type": "markdown",
     "metadata": {},
     "source": [
      "### Version 2 : gestion des accents et de certains caract\u00e8res sp\u00e9ciaux\n",
      "\n",
      "Rien de neuf ici au regard des corrections des exercices pr\u00e9c\u00e9dents."
     ]
    },
    {
     "cell_type": "code",
     "collapsed": false,
     "input": [
      "# --------------- #\n",
      "# -- NETTOYAGE -- #\n",
      "# --------------- #\n",
      "\n",
      "ASCII_VERS_SPECIAL = {\n",
      "# \\n d\u00e9signe un retour \u00e0 la ligne.\n",
      "# \\\" permet d'indiquer le caract\u00e8re \" \u00e0 l'int\u00e9rieur de \n",
      "# deux guillemets \"...\".\n",
      "    '' : \"-,.\u2019'\\\" \\n\",\n",
      "    'a':\"\u00e0\u00e2\u00e4\",\n",
      "    'c': \"\u00e7\",\n",
      "    'e': \"\u00e8\u00e9\u00ea\u00eb\",\n",
      "    'i': \"\u00ee\u00ef\",\n",
      "    'o': \"\u00f4\u00f6\",\n",
      "    'u': \"\u00f9\u00fb\u00fc\"\n",
      "}\n",
      "\n",
      "SPECIAL_VERS_ASCII = {}\n",
      "\n",
      "# Parcours des cl\u00e9s et et de leur valeur de ASCII_VERS_SPECIAL.\n",
      "for cara_ascii, cara_speciaux in ASCII_VERS_SPECIAL.items():\n",
      "    # Parcours suppl\u00e9mentaire des caract\u00e8res de lettres_speciales. \n",
      "    for un_cara_special in cara_speciaux:\n",
      "        SPECIAL_VERS_ASCII[un_cara_special] = cara_ascii\n",
      "\n",
      "\n",
      "def nettoie_texte(texte):\n",
      "    \"\"\"\n",
      "Cette fonction \"nettoie\" un texte pour en obtenir une version\n",
      "ASCII sans espace, ni retour \u00e0 la ligne.\n",
      "    \"\"\"\n",
      "    global SPECIAL_VERS_ASCII\n",
      "    \n",
      "    texte = texte.strip()\n",
      "    texte = texte.lower()\n",
      "\n",
      "    texte_propre = \"\"\n",
      "    \n",
      "    for cara in texte:\n",
      "        if cara in SPECIAL_VERS_ASCII:\n",
      "            texte_propre += SPECIAL_VERS_ASCII[cara]\n",
      "        else:\n",
      "            texte_propre += cara\n",
      "        \n",
      "    return texte_propre\n",
      "\n",
      "\n",
      "# ----------------------- #\n",
      "# -- TABLE DE VIGEN\u00c8RE -- #\n",
      "# ----------------------- #\n",
      "\n",
      "ALPHABET        = \"abcdefghijklmnopqrstuvwxyz\"\n",
      "TAILLE_ALPHABET = len(ALPHABET)\n",
      "\n",
      "TABLE_VIGENERE = {}\n",
      "\n",
      "for decalage in range(TAILLE_ALPHABET):\n",
      "    lettre_codante   = ALPHABET[decalage]\n",
      "    alphabet_associe = ALPHABET[decalage:] + ALPHABET[:decalage]\n",
      "    codage_associe   = {}\n",
      "\n",
      "    for i in range(TAILLE_ALPHABET):\n",
      "        lettre_claire = ALPHABET[i]\n",
      "        lettre_codee  = alphabet_associe[i]\n",
      "\n",
      "        codage_associe[lettre_claire] = lettre_codee\n",
      "\n",
      "    TABLE_VIGENERE[lettre_codante] = codage_associe\n",
      "\n",
      "\n",
      "# ------------ #\n",
      "# -- CODAGE -- #\n",
      "# ------------ #\n",
      "\n",
      "def code(texte, cle):\n",
      "    \"\"\"\n",
      "Cette fonction code un texte en utilisant le chiffrement de Vigen\u00e8re\n",
      "avec la cl\u00e9 donn\u00e9e.\n",
      "    \"\"\"\n",
      "    global TABLE_VIGENERE\n",
      "    \n",
      "    texte      = nettoie_texte(texte)\n",
      "    texte_code = \"\"\n",
      "\n",
      "    for position, cara in enumerate(texte):\n",
      "        position_cle   = position % len(cle)\n",
      "        lettre_codante = cle[position_cle]\n",
      "        texte_code    += TABLE_VIGENERE[lettre_codante][cara]\n",
      "\n",
      "    return texte_code\n",
      "\n",
      "\n",
      "# -------------- #\n",
      "# -- D\u00c9CODAGE -- #\n",
      "# -------------- #\n",
      "\n",
      "def decode(texte, cle):\n",
      "    \"\"\"\n",
      "Cette fonction d\u00e9code un texte cod\u00e9 via le chiffrement de Vigen\u00e8re\n",
      "avec la cl\u00e9 donn\u00e9e.\n",
      "    \"\"\"    \n",
      "    # L'id\u00e9e est simple : on appelle code avec la cl\u00e9 \"inverse\".\n",
      "    # Par exemple, la cl\u00e9 inverse de \"abcde\" est \"azyxw\".\n",
      "\n",
      "    global ALPHABET, TAILLE_ALPHABET\n",
      "\n",
      "    cle_inverse = \"\"\n",
      "\n",
      "    for cara in cle:\n",
      "        position         = ALPHABET.find(cara)\n",
      "        position_inverse = (TAILLE_ALPHABET - position) % TAILLE_ALPHABET\n",
      "        \n",
      "        cle_inverse += ALPHABET[position_inverse]\n",
      "    \n",
      "    return code(texte, cle_inverse)\n",
      "\n",
      "\n",
      "# ----------------- #\n",
      "# -- APPLICATION -- #\n",
      "# ----------------- #\n",
      "\n",
      "cle = \"biographie\"\n",
      "\n",
      "# Le texte suivant a \u00e9t\u00e9 copi\u00e9-coll\u00e9 sur Wikip\u00e9dia en septembre 2015. \n",
      "texte = \"\"\"\n",
      "Blaise de Vigen\u00e8re \u00e9tait un diplomate, cryptographe, traducteur, alchimiste et\n",
      "astrologue fran\u00e7ais.\n",
      "Il \u00e9tait de famille noble et connue. Son p\u00e8re, Jean, contr\u00f4leur ordinaire des guerres,\n",
      "lui fit donner une \u00e9ducation classique tr\u00e8s pouss\u00e9e, l\u2019envoyant pour cela \u00e0 Paris.\n",
      "L\u2019adolescent en profita avec z\u00e8le. Avide de connaissances, il \u00e9tudiait encore \u00e0 l'\u00e2ge m\u00fbr,\n",
      "et eut comme ma\u00eetres, pour le grec et l\u2019h\u00e9breu, Turn\u00e8be et Dorat.\n",
      "Il connut une existence tr\u00e8s mouvement\u00e9e. Encore tout jeune, il accompagna l\u2019envoy\u00e9 de\n",
      "France, Louis Adh\u00e9mar de Grignan, \u00e0 la di\u00e8te de Worms. Puis, pendant plusieurs ann\u00e9es,\n",
      "il voyagea pour son compte, parcourant en particulier l\u2019Allemagne et la Hollande.\n",
      "Il devint ensuite, \u00e0 vingt-quatre ans, secr\u00e9taire du duc de Nevers, charge qu\u2019il conserva\n",
      "jusqu\u2019\u00e0 la mort de ce seigneur et de son fils.\n",
      "Il visita Rome au cours d\u2019une mission diplomatique de deux ans et il y retourna lorsqu\u2019il\n",
      "y fut nomm\u00e9 secr\u00e9taire d\u2019ambassade, y restant trois ans.\n",
      "Pendant ces deux s\u00e9jours, il lut des livres traitant de cryptographie et entra en contact\n",
      "avec des cryptologues.\n",
      "Enfin, Henri III, qui avait beaucoup d\u2019estime pour lui, le fit secr\u00e9taire de sa chambre.\n",
      "Il fut, entre-temps, quelque peu soldat, et mena une vie tr\u00e8s peu exemplaire.\n",
      "Il mourut d'un cancer de la gorge. Sa tombe est \u00e0 l'\u00e9glise Saint-Etienne-du-Mont.\n",
      "\"\"\"\n",
      "\n",
      "texte_code = code(texte, cle)\n",
      "\n",
      "print(texte_code)"
     ],
     "language": "python",
     "metadata": {},
     "outputs": [],
     "prompt_number": null
    },
    {
     "cell_type": "markdown",
     "metadata": {},
     "source": [
      "Indiquons au passage que le texte cod\u00e9 est en fait celui qui \u00e9tait propos\u00e9 dans le tout dernier exercice qui va \u00eatre corrig\u00e9 ci-dessous *(nous savons donc que `biographie` la cl\u00e9 utilis\u00e9e est de taille $10$)*.\n",
      "\n",
      "\n",
      "Pour les plus rapides : une premi\u00e8re \u00e9tape pour casser un code de Vigen\u00e8re \n",
      "--------------------------------------------------------------------------\n",
      "\n",
      "Dans cette derni\u00e8re section, nous allons utiliser la possibilit\u00e9 de faire appel \u00e0 des cellules ex\u00e9cut\u00e9es pr\u00e9c\u00e9demment par IPython afin de d\u00e9tailler pas \u00e0 pas ce que nous allons faire. Commen\u00e7ons par redonner le texte crypt\u00e9 dont on veut deviner la taille de la cl\u00e9. "
     ]
    },
    {
     "cell_type": "code",
     "collapsed": false,
     "input": [
      "texte_code = \"\"\"\n",
      "ctoojesldmhmbkietaimucbjzpavueumqxppivovbxvkkrpkcgumixrlroqqjahkvtpz\n",
      "bvptcmleuyirdiwyzltaimulslrmxstiowprveijwrocsyfnelzikmottocazsmmixfr\n",
      "spvejzsjvsvbmvsmgrliupbhpvbkiuclmhvkozzocjtetawwleiymwqwiyjetsmrwwmg\n",
      "etevcvdmzgrppyqwmirucehjmrumbvioupbebdsiqealizjlsjvcduvejaggectzqpfb\n",
      "ijzaxamrdwfkrlpnmqvzszvuijwqnmagztglatpcfrvgglkiutvksrtbbysvshveikwv\n",
      "bbwrtocucxvvskoihamrdmhxvsbvczfustketlvgpzszfuiqmyomwrrcrvutbobgcecc\n",
      "wcflsliacjmppcwyrdwlueslsmiivuirbtojzeillixwfsjpjpatfvrgetescwjmixja\n",
      "cumitqzbfypnmeqwixjocjwqqbsvrrrvcvbvhkeppybmdczovrahtpfuomeetateiwzr\n",
      "rnslqpemjoettuayjbsgmicnbuvihxvaczaidzszrigllyecqjvntcmvtkvgigtxcmmk\n",
      "ctjegcinvaearlptwvulsivstporfcfkkdtzwrgqzyzlkpamuifudepbksvzgjlnttqw\n",
      "tqctuieswqbbwwlesllivfotjeiptcsmhulrchtssaeazlnmcxowasvstjziuiwxvdpt\n",
      "jetaojvyglaxbvhzioxzirtxstuacakitlsaostqwysawrcuikmwmqjxvsiyimuibzue\n",
      "rygtuwuxrpwpmiumbziatuksoboikaklkhfaqxppivtshcsyvnupvlfvfozixxcmbdoo\n",
      "kbthcgpcdjvsipuiqwixcuxsmjjbgktrtaimsmrkjaroiqczsocfjamruzszvmezyyft\n",
      "eavptbasmlozvtblvevvsbzeiymwqmikoebwtejzsocmdbzyulittacjmvemzgxognmw\n",
      "bbcssetzbemmurzstzimobszzecumhvuctk\n",
      "\"\"\"\n",
      "\n",
      "texte_code = texte_code.strip()\n",
      "texte_code = texte_code.replace(\"\\n\", \"\")"
     ],
     "language": "python",
     "metadata": {},
     "outputs": [],
     "prompt_number": 3
    },
    {
     "cell_type": "markdown",
     "metadata": {},
     "source": [
      "L'id\u00e9e propos\u00e9e consiste \u00e0 rep\u00e9rer les groupes de lettres qui se r\u00e9p\u00e8tenet dans le texte cod\u00e9. La fonction suivante va nous donner la liste des groupes de longueur `taille` qui se r\u00e9p\u00e8tentent dans un texte. Cette fonction prend en compte les groupes qui se superposent. Par exemple dans `\"aab------aa---ab\"`, les groupes `\"aa\"` et `\"ab\"` seront renvoy\u00e9s."
     ]
    },
    {
     "cell_type": "code",
     "collapsed": false,
     "input": [
      "def trouve_grpes_repetes(texte, taille):\n",
      "    \"\"\"\n",
      "Cette fonction renvoie une liste de cha\u00eenes de caract\u00e8res de la taille\n",
      "demand\u00e9e qui sont pr\u00e9sents au moins deux fois dans le texte.\n",
      "    \"\"\"\n",
      "    grpes_repetes = []\n",
      "    \n",
      "    for i in range(0, len(texte) - taille):\n",
      "        un_grpe = texte_code[i:i + taille]\n",
      "        \n",
      "        # L'utilisation de texte_code[i:i + taille] ne garantit pas\n",
      "        # que l'on aura une cha\u00eene de longueur taille.\n",
      "        if len(un_grpe) == taille and un_grpe not in grpes_repetes:\n",
      "            occurence = texte.count(un_grpe)\n",
      "\n",
      "            if occurence > 1:\n",
      "                grpes_repetes.append(un_grpe)\n",
      "\n",
      "    return grpes_repetes"
     ],
     "language": "python",
     "metadata": {},
     "outputs": [],
     "prompt_number": 4
    },
    {
     "cell_type": "markdown",
     "metadata": {},
     "source": [
      "Nous devons ensuite conna\u00eetre toutes les distances qui s\u00e9parent deux groupes cons\u00e9cutifs identiques. Construisons une fonction pour obtenir ces informations."
     ]
    },
    {
     "cell_type": "code",
     "collapsed": false,
     "input": [
      "def trouve_distances(texte, grpes_repetes):\n",
      "    \"\"\"\n",
      "\u00c9tant donn\u00e9 une liste de cha\u00eenes de caract\u00e8res qui se r\u00e9p\u00e8tent dans le\n",
      "texte donn\u00e9, cette fonction renvoie toutes les distances qui s\u00e9parent\n",
      "tous les couples de groupes cons\u00e9cutifs identiques.\n",
      "    \"\"\"\n",
      "    distances = []\n",
      "    \n",
      "    for un_grpe in grpes_repetes:\n",
      "        i = 0\n",
      "        positions = []\n",
      "        taille_grpe = len(un_grpe)\n",
      "        \n",
      "        while True:\n",
      "            i = texte.find(un_grpe, i)\n",
      "            \n",
      "            # Le groupe n'est plus pr\u00e9sent \u00e0 partir de la position i.\n",
      "            if i == -1:\n",
      "                break\n",
      "            \n",
      "            positions.append(i)\n",
      "            \n",
      "            # On passe au groupe suivant \u00e9ventuel.\n",
      "            i += 1\n",
      "\n",
      "        for i, pos in enumerate(positions[:-1]):\n",
      "            une_distance = positions[i + 1] - pos\n",
      "                \n",
      "            if une_distance not in distances:\n",
      "                distances.append(une_distance)\n",
      "\n",
      "    return distances"
     ],
     "language": "python",
     "metadata": {},
     "outputs": [],
     "prompt_number": 7
    },
    {
     "cell_type": "markdown",
     "metadata": {},
     "source": [
      "Testons nos deux fonctions."
     ]
    },
    {
     "cell_type": "code",
     "collapsed": false,
     "input": [
      "for taille in range(2, 6):\n",
      "    grpes_repetes = trouve_grpes_repetes(texte, taille)\n",
      "    distances     = trouve_distances(texte, grpes_repetes)\n",
      "\n",
      "    print(\"taille =\", taille)\n",
      "    print(\"----------\")\n",
      "    print(\"grpes_repetes =\", grpes_repetes)\n",
      "    print(\"\")\n",
      "    print(\"distances =\", distances)\n",
      "    \n",
      "    if taille !=5:\n",
      "        print(\"\")\n",
      "        print(\"\")"
     ],
     "language": "python",
     "metadata": {},
     "outputs": [
      {
       "output_type": "stream",
       "stream": "stdout",
       "text": [
        "taille = 2\n",
        "----------\n",
        "grpes_repetes = ['ct', 'to', 'es', 'mb', 'ie', 'et', 'ta', 'ai', 'im', 'uc', 'pa', 'av', 'ue', 'eu', 'vo', 'gu', 'mi', 'ro', 'pt', 'le', 'ir', 'di', 'st', 'ti', 'io', 've', 'ne', 'el', 'mo', 'ca', 'mm', 'rs', 'gr', 'li', 'te', 'ge', 'ev', 'ce', 'vi', 'ou', 'be', 'si', 'iq', 'ea', 'du', 'ag', 'ec', 'am', 'ui', 'ma', 'la', 'at', 'ut', 'rt', 'ha', 'fu', 'us', 'om', 'cr', 'ac', 'mp', 'lu', 'il', 'll', 'rg', 'it', 'yp', 'me', 'ra', 'rn', 'ns', 'pe', 'em', 'va', 'ri', 'ig', 'nt', 'in', 'nv', 'ar', 'po', 'or', 'de', 'ip', 'ch', 'ss', 'sa', 'as', 'er', 'ry', 'ux', 'so', 'nu', 'do', 'tr', 'lo', 'og', 'gn', 'se', 'ur']\n",
        "\n",
        "distances = [996, 433, 417, 134, 43, 215, 8, 93, 49, 54, 218, 352, 27, 25, 7, 55, 13, 172, 227, 124, 64, 383, 189, 91, 50, 235, 35, 21, 250, 137, 79, 9, 145, 173, 84, 187, 436, 100, 24, 37, 96, 19, 74, 10, 149, 391, 200, 85, 45, 92, 66, 1053, 151, 529, 374, 133, 14, 763, 46, 44, 645, 207, 116, 4, 204, 41, 77, 106, 212, 75, 105, 219, 33, 262, 98, 896, 736, 205, 670, 582, 402, 6, 36, 26, 87, 271, 477, 559, 221, 138, 169, 305, 364, 506, 170, 435, 256, 192, 642, 164, 286, 313, 5, 180, 135, 48, 372, 935, 328, 466, 548, 157, 94, 61, 346, 638, 354, 297, 111, 69, 73, 485, 341, 255, 147, 523, 57, 22, 70, 274, 183, 290, 382, 16, 119, 399, 20, 132, 90, 206, 126, 694, 366, 239, 28, 461, 500, 526, 3, 584, 110, 97, 330, 136, 822, 336, 403, 158, 129, 202, 216, 292, 120, 459, 32, 176, 213, 289, 152, 342, 81, 141, 409, 260, 337, 125, 128, 209, 31, 369, 685, 99, 562, 53, 397, 412, 214, 159, 113, 160, 71, 86, 542, 17, 359, 188, 984, 371, 291, 331, 377, 18, 114, 83, 623, 524, 333, 275, 550, 530, 117, 263, 127, 131, 522, 378, 225, 269, 109, 229, 514, 51, 222, 375, 102, 65, 23, 68, 42, 115, 830, 684, 15, 532, 619, 217, 139, 720, 453, 498, 193, 392, 301, 78, 243, 47, 777, 39, 943, 121, 718, 179, 167, 140]\n",
        "\n",
        "\n",
        "taille = 3\n",
        "----------\n",
        "grpes_repetes = ['tai', 'rge', 'ssa']\n",
        "\n",
        "distances = [84, 623, 200, 221, 523, 619]\n",
        "\n",
        "\n",
        "taille = 4\n",
        "----------\n",
        "grpes_repetes = []\n",
        "\n",
        "distances = []\n",
        "\n",
        "\n",
        "taille = 5\n",
        "----------\n",
        "grpes_repetes = []\n",
        "\n",
        "distances = []\n"
       ]
      }
     ],
     "prompt_number": 6
    },
    {
     "cell_type": "markdown",
     "metadata": {},
     "source": [
      "On note qu'ici seules les tailles $2$ et $3$ semblent pertinentes. Nous ferons le pari que ce comportement est g\u00e9n\u00e9ral mais attention aux conclusions trop h\u00e2tives *(l'id\u00e9al serait de tester cette conjecture sur un grand nombre de textes fran\u00e7ais avec diff\u00e9rents cl\u00e9s cr\u00e9\u00e9es al\u00e9atoirement form\u00e9es de mots existants ou non)*.\n",
      "\n",
      "\u00c0 partir de la liste des distances entre tous les couples de groupes cons\u00e9cutifs identiques, nous allons d\u00e9terminer une liste de diviseurs de ces distances. Nous allons aussi compter le nombre d'occurence de ces diviseurs. Nous utilisons ici le fait que si les r\u00e9p\u00e9titions sont dues au codage avec la m\u00eame partie de la cl\u00e9 de deux m\u00eames groupes de lettres dans le texte clair, alors la distance entre ces groupes sera un multiple de la taille de la cl\u00e9."
     ]
    },
    {
     "cell_type": "code",
     "collapsed": false,
     "input": [
      "def diviseurs(naturel):\n",
      "    \"\"\"\n",
      "Cette fonction renvoie la liste de tous les diviseurs, autre que 1,\n",
      "d'un naturel.\n",
      "\n",
      "Note : la m\u00e9thode employ\u00e9e est peu efficace mais elle reste utilisable\n",
      "dans le cadre o\u00f9 nous allons l'employer.\n",
      "    \"\"\"\n",
      "    if naturel == 1:\n",
      "        return []\n",
      "    \n",
      "    les_diviseurs = []\n",
      "    \n",
      "    for i in range(2, naturel + 1):\n",
      "        if naturel % i == 0:\n",
      "            les_diviseurs.append(i)\n",
      "    \n",
      "    return les_diviseurs\n",
      "    \n",
      "\n",
      "def cherche_multiples_taille(distances):\n",
      "    \"\"\"\n",
      "\u00c0 partir de la liste des distances entre tous les couples de groupes\n",
      "cons\u00e9cutifs identiques, cette fonction renvoie un dictionnaire dont\n",
      "les cl\u00e9s sont les diviseurs des distances, et les valeurs le nombre\n",
      "de fois o\u00f9 un diviseur a \u00e9t\u00e9 trouv\u00e9. Nous ne gardons pas les diviseurs\n",
      "qui n'apparaissent qu'une seule fois.\n",
      "    \"\"\"\n",
      "    tous_les_multiples = {}\n",
      "    \n",
      "    for une_distance in distances:\n",
      "        for un_diviseur in diviseurs(une_distance):\n",
      "            if un_diviseur not in tous_les_multiples:\n",
      "                tous_les_multiples[un_diviseur] = 1\n",
      "            else:\n",
      "                tous_les_multiples[un_diviseur] += 1\n",
      "\n",
      "    # On ne garde que les diviseurs apparaissant au moins deux fois.\n",
      "    multiples = {}\n",
      "    \n",
      "    for diviseur, occurence in tous_les_multiples.items():\n",
      "        if occurence != 1:\n",
      "            multiples[diviseur] = occurence\n",
      "    \n",
      "    return multiples"
     ],
     "language": "python",
     "metadata": {},
     "outputs": [],
     "prompt_number": 8
    },
    {
     "cell_type": "markdown",
     "metadata": {},
     "source": [
      "Testons cette nouvelle fonction."
     ]
    },
    {
     "cell_type": "code",
     "collapsed": false,
     "input": [
      "for taille in range(2, 4):\n",
      "    grpes_repetes    = trouve_grpes_repetes(texte, taille)\n",
      "    distances        = trouve_distances(texte, grpes_repetes)\n",
      "    multiples_taille = cherche_multiples_taille(distances)\n",
      "\n",
      "    print(\"taille          =\", taille)\n",
      "    print(\"multiple_taille =\", multiples_taille)\n",
      "\n",
      "    if taille !=5:\n",
      "        print(\"\")"
     ],
     "language": "python",
     "metadata": {},
     "outputs": [
      {
       "output_type": "stream",
       "stream": "stdout",
       "text": [
        "taille          = 2\n",
        "multiple_taille = {2: 121, 3: 86, 4: 57, 5: 50, 6: 40, 7: 32, 8: 26, 9: 29, 10: 23, 11: 24, 12: 17, 13: 16, 14: 14, 15: 15, 16: 15, 17: 17, 18: 12, 19: 10, 20: 10, 21: 11, 22: 13, 23: 12, 24: 9, 25: 12, 26: 5, 27: 11, 28: 8, 29: 8, 30: 5, 31: 7, 32: 10, 33: 6, 34: 6, 35: 4, 36: 5, 37: 6, 38: 5, 39: 4, 40: 4, 41: 7, 42: 5, 43: 8, 44: 4, 45: 6, 46: 5, 47: 5, 48: 5, 49: 4, 50: 6, 51: 5, 52: 2, 53: 7, 54: 3, 55: 6, 56: 3, 57: 5, 58: 4, 60: 3, 61: 4, 62: 2, 63: 3, 64: 5, 65: 2, 66: 3, 67: 3, 68: 3, 69: 3, 70: 2, 71: 2, 72: 2, 73: 4, 74: 2, 75: 3, 76: 3, 79: 2, 80: 2, 81: 3, 82: 3, 83: 4, 84: 2, 85: 4, 86: 2, 87: 3, 88: 2, 90: 3, 91: 2, 92: 2, 93: 2, 94: 2, 96: 2, 97: 4, 98: 2, 99: 2, 100: 3, 102: 2, 103: 2, 106: 3, 107: 2, 109: 4, 110: 3, 111: 4, 112: 2, 359: 2, 114: 3, 275: 2, 117: 2, 120: 2, 123: 2, 124: 2, 125: 4, 126: 2, 128: 3, 129: 2, 131: 3, 133: 3, 134: 3, 137: 5, 342: 2, 139: 2, 145: 3, 146: 2, 151: 2, 159: 2, 164: 3, 166: 3, 171: 2, 173: 2, 176: 2, 328: 2, 180: 2, 291: 2, 183: 2, 187: 3, 189: 2, 262: 2, 206: 2, 271: 2, 274: 3, 214: 2, 215: 2, 292: 2, 218: 2, 263: 2, 498: 2, 249: 2, 250: 2}\n",
        "\n",
        "taille          = 3\n",
        "multiple_taille = {2: 2, 4: 2, 7: 2}\n",
        "\n"
       ]
      }
     ],
     "prompt_number": 9
    },
    {
     "cell_type": "markdown",
     "metadata": {},
     "source": [
      "Pour finir, nous faisons le choix tr\u00e8s pifom\u00e9trique de ne garder qu'au maximum les $15$ diviseurs apparaissant le plus souvent *(nous allons reparler de ceci un peu plus bas)*."
     ]
    },
    {
     "cell_type": "code",
     "collapsed": false,
     "input": [
      "def propose_meilleurs_multiples(multiples):\n",
      "    \"\"\"\n",
      "Cette fonction renvoie une liste ordonn\u00e9e obtenue en ne gardant que\n",
      "les multiples probables les plus fr\u00e9quents de la taille de la cl\u00e9\n",
      "utilis\u00e9e pour crypter un texte avec le code de Vigen\u00e8re.\n",
      "    \"\"\"\n",
      "    meilleures_occurences = []\n",
      "\n",
      "    for un_multiple, occurence in multiples.items():\n",
      "        meilleures_occurences.append(occurence)\n",
      "    \n",
      "    meilleures_occurences = sorted(meilleures_occurences)\n",
      "    meilleures_occurences = meilleures_occurences[-15:]\n",
      "    \n",
      "    meilleurs_multiples = []\n",
      "    \n",
      "    for un_multiple, occurence in multiples.items():\n",
      "        if occurence in meilleures_occurences:\n",
      "            meilleurs_multiples.append(un_multiple)\n",
      "    \n",
      "    meilleurs_multiples = sorted(meilleurs_multiples)\n",
      "\n",
      "    return meilleurs_multiples"
     ],
     "language": "python",
     "metadata": {},
     "outputs": [],
     "prompt_number": 10
    },
    {
     "cell_type": "markdown",
     "metadata": {},
     "source": [
      "Compl\u00e9tons le test fait pr\u00e9c\u00e9demment pour qu'il utilise notre derni\u00e8re fonction."
     ]
    },
    {
     "cell_type": "code",
     "collapsed": false,
     "input": [
      "for taille in range(2, 4):\n",
      "    grpes_repetes       = trouve_grpes_repetes(texte, taille)\n",
      "    distances           = trouve_distances(texte, grpes_repetes)\n",
      "    multiples_taille    = cherche_multiples_taille(distances)\n",
      "    meilleurs_multiples = propose_meilleurs_multiples(multiples_taille)\n",
      "\n",
      "\n",
      "    print(\"taille          =\", taille)\n",
      "    print(\"meilleurs_multiples =\", meilleurs_multiples)\n",
      "\n",
      "    if taille != 5:\n",
      "        print(\"\")"
     ],
     "language": "python",
     "metadata": {},
     "outputs": [
      {
       "output_type": "stream",
       "stream": "stdout",
       "text": [
        "taille          = 2\n",
        "meilleurs_multiples = [2, 3, 4, 5, 6, 7, 8, 9, 10, 11, 12, 13, 15, 16, 17]\n",
        "\n",
        "taille          = 3\n",
        "meilleurs_multiples = [2, 4, 7]\n",
        "\n"
       ]
      }
     ],
     "prompt_number": 11
    },
    {
     "cell_type": "markdown",
     "metadata": {},
     "source": [
      "Nous voyons appara\u00eetre le $10$ attendu dans les propositions faites. Tout ce qui pr\u00e9c\u00e8de nous am\u00e8ne \u00e0 la fonction suivante."
     ]
    },
    {
     "cell_type": "code",
     "collapsed": false,
     "input": [
      "def tailles_possibles_cle(texte):\n",
      "    \"\"\"\n",
      "Cette fonction propose une liste des multiples les plus probables\n",
      "de la taille de la cl\u00e9 utilis\u00e9e pour crypter un texte avec le code\n",
      "de Vigen\u00e8re.\n",
      "    \"\"\"\n",
      "    meilleurs_multiples = []\n",
      "    \n",
      "    for taille in range(2, 4):\n",
      "        grpes_repetes        = trouve_grpes_repetes(texte, taille)\n",
      "        distances            = trouve_distances(texte, grpes_repetes)\n",
      "        multiples_taille     = cherche_multiples_taille(distances)\n",
      "        meilleurs_multiples += propose_meilleurs_multiples(multiples_taille)\n",
      "\n",
      "    \n",
      "    meilleurs_multiples = list(set(meilleurs_multiples))\n",
      "    meilleurs_multiples = sorted(meilleurs_multiples)\n",
      "\n",
      "    return meilleurs_multiples"
     ],
     "language": "python",
     "metadata": {},
     "outputs": [],
     "prompt_number": 12
    },
    {
     "cell_type": "markdown",
     "metadata": {},
     "source": [
      "Testons ce que nous renvoie notre fonction. "
     ]
    },
    {
     "cell_type": "code",
     "collapsed": false,
     "input": [
      "tailles_possibles = tailles_possibles_cle(texte)\n",
      "\n",
      "print(\"tailles_possibles =\", tailles_possibles)"
     ],
     "language": "python",
     "metadata": {},
     "outputs": [
      {
       "output_type": "stream",
       "stream": "stdout",
       "text": [
        "tailles_possibles = [2, 3, 4, 5, 6, 7, 8, 9, 10, 11, 12, 13, 15, 16, 17]\n"
       ]
      }
     ],
     "prompt_number": 13
    },
    {
     "cell_type": "markdown",
     "metadata": {},
     "source": [
      "On voit bien appara\u00eetre notre $10$. Est-ce un coup de chance ? Pour valider un peu notre programme, testons un texte clair crypt\u00e9 avec des cl\u00e9s fabriqu\u00e9es al\u00e9atoirement. C'est assez simple \u00e0 faire."
     ]
    },
    {
     "cell_type": "code",
     "collapsed": false,
     "input": [
      "# ------------- #\n",
      "# -- TESTONS -- #\n",
      "# ------------- #\n",
      "\n",
      "from random import randint\n",
      "\n",
      "# Le texte suivant a \u00e9t\u00e9 copi\u00e9-coll\u00e9 sur Wikip\u00e9dia en septembre 2015. \n",
      "TEXTE = \"\"\"\n",
      "Blaise de Vigen\u00e8re \u00e9tait un diplomate, cryptographe, traducteur, alchimiste et\n",
      "astrologue fran\u00e7ais.\n",
      "Il \u00e9tait de famille noble et connue. Son p\u00e8re, Jean, contr\u00f4leur ordinaire des guerres,\n",
      "lui fit donner une \u00e9ducation classique tr\u00e8s pouss\u00e9e, l\u2019envoyant pour cela \u00e0 Paris.\n",
      "L\u2019adolescent en profita avec z\u00e8le. Avide de connaissances, il \u00e9tudiait encore \u00e0 l'\u00e2ge m\u00fbr,\n",
      "et eut comme ma\u00eetres, pour le grec et l\u2019h\u00e9breu, Turn\u00e8be et Dorat.\n",
      "Il connut une existence tr\u00e8s mouvement\u00e9e. Encore tout jeune, il accompagna l\u2019envoy\u00e9 de\n",
      "France, Louis Adh\u00e9mar de Grignan, \u00e0 la di\u00e8te de Worms. Puis, pendant plusieurs ann\u00e9es,\n",
      "il voyagea pour son compte, parcourant en particulier l\u2019Allemagne et la Hollande.\n",
      "Il devint ensuite, \u00e0 vingt-quatre ans, secr\u00e9taire du duc de Nevers, charge qu\u2019il conserva\n",
      "jusqu\u2019\u00e0 la mort de ce seigneur et de son fils.\n",
      "Il visita Rome au cours d\u2019une mission diplomatique de deux ans et il y retourna lorsqu\u2019il\n",
      "y fut nomm\u00e9 secr\u00e9taire d\u2019ambassade, y restant trois ans.\n",
      "Pendant ces deux s\u00e9jours, il lut des livres traitant de cryptographie et entra en contact\n",
      "avec des cryptologues.\n",
      "Enfin, Henri III, qui avait beaucoup d\u2019estime pour lui, le fit secr\u00e9taire de sa chambre.\n",
      "Il fut, entre-temps, quelque peu soldat, et mena une vie tr\u00e8s peu exemplaire.\n",
      "Il mourut d'un cancer de la gorge. Sa tombe est \u00e0 l'\u00e9glise Saint-Etienne-du-Mont.\n",
      "\"\"\"\n",
      "\n",
      "\n",
      "def test(nbre_tests, taille_mini_cle, taille_maxi_cle):\n",
      "    global TEXTE\n",
      "    \n",
      "    nbre_erreurs = 0\n",
      "\n",
      "    for i in range(nbre_tests):\n",
      "        taille_cle = randint(taille_mini_cle, taille_maxi_cle)\n",
      "    \n",
      "        cle = \"\"\n",
      "    \n",
      "        for j in range(taille_cle):\n",
      "            random_ord = randint(97, 122)\n",
      "            cle += chr(random_ord)\n",
      "\n",
      "        texte_code        = code(texte, cle)\n",
      "        tailles_possibles = tailles_possibles_cle(texte_code)\n",
      "    \n",
      "        if taille_cle not in tailles_possibles:\n",
      "            nbre_erreurs += 1\n",
      "    \n",
      "    if nbre_erreurs == 0:\n",
      "        messsage_erreur = \"Aucune erreur\"\n",
      "    elif nbre_erreurs == 1:\n",
      "        messsage_erreur = \"Une seule erreur\"\n",
      "    else:\n",
      "        messsage_erreur = \"{0} erreurs\".format(nbre_erreurs)\n",
      "        \n",
      "    messsage_erreur += \" sur \"\n",
      "\n",
      "    if nbre_tests == 1:\n",
      "        messsage_erreur += \"un seul test al\u00e9atoire effectu\u00e9.\"\n",
      "    else:\n",
      "        messsage_erreur += \"{0} tests al\u00e9atoires effectu\u00e9s.\".format(nbre_tests)\n",
      "\n",
      "    print(messsage_erreur)\n",
      "\n",
      "    \n",
      "# ----------------- #\n",
      "# -- APPLICATION -- #\n",
      "# ----------------- #\n",
      "\n",
      "test(\n",
      "    nbre_tests      = 10**3,\n",
      "    taille_mini_cle = 3,\n",
      "    taille_maxi_cle = 20\n",
      ")"
     ],
     "language": "python",
     "metadata": {},
     "outputs": [
      {
       "output_type": "stream",
       "stream": "stdout",
       "text": [
        "Aucune erreur sur 1000 tests al\u00e9atoires effectu\u00e9s.\n"
       ]
      }
     ],
     "prompt_number": 14
    },
    {
     "cell_type": "markdown",
     "metadata": {},
     "source": [
      "Ceci est assez rassurant mais il faudrait faire des tests plus pouss\u00e9s via de vrais textes ayant une signification, et des cl\u00e9s fabriqu\u00e9es al\u00e9atoirement utilisant ou non des mots connus.\n",
      "Si l'on reprend le test pr\u00e9c\u00e9dent avec des cl\u00e9s de taille maximale $100$, on obtient un nombre d'erreurs de l'ordre de $50$ pour cent, ce qui est trop *(voir ci-apr\u00e8s)*."
     ]
    },
    {
     "cell_type": "code",
     "collapsed": false,
     "input": [
      "test(\n",
      "    nbre_tests      = 10**3,\n",
      "    taille_mini_cle = 3,\n",
      "    taille_maxi_cle = 100\n",
      ")"
     ],
     "language": "python",
     "metadata": {},
     "outputs": [
      {
       "output_type": "stream",
       "stream": "stdout",
       "text": [
        "573 erreurs sur 1000 tests al\u00e9atoires effectu\u00e9s.\n"
       ]
      }
     ],
     "prompt_number": 15
    },
    {
     "cell_type": "markdown",
     "metadata": {},
     "source": [
      "Le programme propos\u00e9 dans cette section pourrait \u00eatre am\u00e9lior\u00e9 comme suit.\n",
      "\n",
      "1. On pourrait donner le choix \u00e0 l'utilisateur de la valeur du nombre de multiples gard\u00e9s par la fonction `propose_meilleurs_multiples`. Par contre, plus on garde de multiples, plus longue vont \u00eatre les m\u00e9thodes pr\u00e9sent\u00e9es dans la section suivante, mais ceci peut \u00eatre un choix assum\u00e9 par l'utilisateur.\n",
      "\n",
      "1. Peut-\u00eatre une meilleure tactique... On tente un d\u00e9cryptage avec les dix meilleurs multiples, puis si l'on \u00e9choue, on esssaye alors avec les dix meilleurs suivants... etc. Ceci a l'avantage de tenter le maximum sans demander de param\u00e9trages c\u00f4t\u00e9 utilisateur.\n",
      "\n",
      "1. Si notre m\u00e9thode de recherche d'une cl\u00e9 de taille connue n'est pas trop chronophage pour une taille donn\u00e9e, on peut alors retirer de la liste des tailles possibles celles qui en divisent d'autres. Par exemple, au lieu de prendre la liste pr\u00e9c\u00e9dente `[2, 3, 4, 5, 6, 7, 8, 9, 10, 11, 12, 13, 15, 16, 17]`, on travaillerait avec `[7, 9, 10, 11, 12, 13, 15, 16, 17]`. On obtiendrait alors \u00e9ventuellement comme cl\u00e9 de cryptage la cl\u00e9 initiale \u00e9ventuellement r\u00e9p\u00e9t\u00e9e plusieurs fois.\n",
      "\n",
      "1. Une autre chose que l'on peut tenter, c'est de faire des choix au hasard dans notre liste de tailles possibles.\n",
      "\n",
      "\n",
      "**Remarque :** pour la petite histoire, une premi\u00e8re tentative de l'auteur consitait \u00e0 ne garder que le PGCD des diff\u00e9rentes distances qui \u00e9tait le plus fr\u00e9quent. Ceci avait produit un programme fonctionnant sur notre tout premier exemple mais le test al\u00e9atoire ci-dessus a tout de suite mis en d\u00e9faut ce programme. Belle et \u00e9trange co\u00efncidence montrant qu'il faut toujours bien tester ce que l'on fait. "
     ]
    },
    {
     "cell_type": "markdown",
     "metadata": {},
     "source": [
      "Aller plus loin : tenter de casser un code de Vigen\u00e8re\n",
      "------------------------------------------------------\n",
      "\n",
      "> Nous ne proposons ici que des pistes th\u00e9oriques pour tenter de casser un code de Vigen\u00e8re.\n",
      "> Nous ne faisons aucune impl\u00e9mentation par manque de place dans la marge.\n",
      "\n",
      "\n",
      "### Grandeur et d\u00e9mesure\n",
      "\n",
      "Examinons pourquoi casser brutalement un code de Vigen\u00e8re n'est pas envisageable. Imaginons par exemple que nous sachions que la taille de la cl\u00e9 soit exactement \u00e9gale \u00e0 $20$ *(cette hypoth\u00e8se n'est pas exag\u00e9r\u00e9e car par exemple la phrase \"jesuisuncodesecret\", tr\u00e8s facile \u00e0 retenir, fait $18$ caract\u00e8res de long)*. Nous avons alors $26^{20} \\approx 1,\\!99 \\times 10^{28}$ cl\u00e9s possibles d'apr\u00e8s le calcul ci-dessous."
     ]
    },
    {
     "cell_type": "code",
     "collapsed": false,
     "input": [
      "print(float(26**20))"
     ],
     "language": "python",
     "metadata": {},
     "outputs": [
      {
       "output_type": "stream",
       "stream": "stdout",
       "text": [
        "1.992814889520941e+28\n"
       ]
      }
     ],
     "prompt_number": 16
    },
    {
     "cell_type": "markdown",
     "metadata": {},
     "source": [
      "Or l'ordinateur de l'auteur au moment o\u00f9 il r\u00e9dige ce document poss\u00e8de un processeur de $2,\\!5$ GHz. Ceci signifie qu'il peut effectuer $2,\\!5 \\times 10^{9}$ op\u00e9rations arithm\u00e9tiques \u00e9l\u00e9mentaires par seconde.\n",
      "Faisons l'hypoth\u00e8se excessive que le test d'une seule cl\u00e9 ne nous demande qu'une seule op\u00e9ration arithm\u00e9tique \u00e9l\u00e9mentaire, et de plus que tout notre processeur soit utilis\u00e9 uniquement par notre programme de d\u00e9cryptage *(nous faisons ici des hypoth\u00e8ses irr\u00e9alistes mais nous allons comprendre bient\u00f4t pourquoi)*.\n",
      "Il faudrait alors pas moins d'environ $7,\\!9 \\times 10^{18}$ secondes pour tout tester d'apr\u00e8s le premier calcul ci-dessous. Ceci donne le vertige quand on voit que cela correspond \u00e0 environ $2,5 \\times 10^{11}$ ann\u00e9es alors que l'\u00e2ge de la Terre est de l'ordre $4,5 \\times 10^9$ ans !"
     ]
    },
    {
     "cell_type": "code",
     "collapsed": false,
     "input": [
      "duree_en_secondes = 26**20 / (2.5*10**9)\n",
      "\n",
      "un_jour         = 60*60*24\n",
      "une_annee       = 365.25*un_jour\n",
      "duree_en_annees = duree_en_secondes // une_annee\n",
      "\n",
      "print(\"Dur\u00e9e en secondes :\", float(duree_en_secondes))\n",
      "print(\"Dur\u00e9e en ann\u00e9es   :\", duree_en_annees)\n",
      "print(\"\")\n",
      "print(\"Nombre de chiffre de la dur\u00e9e en ann\u00e9es :\", len(str(int(duree_en_annees))))"
     ],
     "language": "python",
     "metadata": {},
     "outputs": [
      {
       "output_type": "stream",
       "stream": "stdout",
       "text": [
        "Dur\u00e9e en secondes : 7.971259558083764e+18\n",
        "Dur\u00e9e en ann\u00e9es   : 252593972864.0\n",
        "\n",
        "Nombre de chiffre de la dur\u00e9e en ann\u00e9es : 12\n"
       ]
      }
     ],
     "prompt_number": 17
    },
    {
     "cell_type": "markdown",
     "metadata": {},
     "source": [
      "On voit donc que m\u00eame en faisant des hypoth\u00e8ses exag\u00e9r\u00e9es en notre faveur, nous arrivons \u00e0 une situation impossible \u00e0 r\u00e9aliser concr\u00e8tement. Ceci montre qu'une fois connue la taille de la cl\u00e9, il faudra \u00eatre malin pour casser un code de Vigen\u00e8re."
     ]
    },
    {
     "cell_type": "markdown",
     "metadata": {},
     "source": [
      "### Un premier pari : la cl\u00e9 \"signifie\" quelque chose\n",
      "\n",
      "On peut supposer que la cl\u00e9 utilise des mots connus. Il faut alors arriver \u00e0 produire toutes les cl\u00e9s possibles de taille connue qui sont construites \u00e0 partir d'une liste de mots connus. \n",
      "Parmi toutes ces cl\u00e9s, on gardera alors celle produisant un texte avec le plus de mots connus *(voir ce qui a \u00e9t\u00e9 fait avec le chiffrement de C\u00e9sar pour un texte sans espace)*."
     ]
    },
    {
     "cell_type": "markdown",
     "metadata": {},
     "source": [
      "### Pari perdu, faisons une \u00e9tude statistique\n",
      "\n",
      "Que faire si la cl\u00e9 a \u00e9t\u00e9 produite al\u00e9atoirement ? Imaginons que la cl\u00e9 soit de longueur $20$. Ceci signifie alors que les lettres du texte cod\u00e9 qui sont aux positions $1$, $21$, $41$, ... etc sont cod\u00e9s via le m\u00eame chiffrement de C\u00e9sar. Ceci est aussi vrai pour les lettres aux positions $2$, $22$, $42$, ... etc, et ainsi de suite.\n",
      "Ceci nous permet alors de construire des sous-textes $ss\\_txt_1$, $ss\\_txt_2$, ... etc qui sont chacun cod\u00e9s suivant diff\u00e9rents codes de C\u00e9sar.\n",
      "Il nous faut alors casser ces diff\u00e9rents chiffrements de C\u00e9sar mais nous nous heurtons \u00e0 un nouveau probl\u00e8me : tous ces sous-textes codent des bouts du texte initial, ces morceaux n'ayant aucune signification.\n",
      "Ceci nous emp\u00eache de compter le nombre de mots connus pour d\u00e9coder $ss\\_txt_1$, puis $ss\\_txt_2$, ... etc. Ceci aurait demand\u00e9 $26 + 26 + \\cdots = 20 \\times 26 = 520$ tests brutaux, ce qui aurait \u00e9t\u00e9 parfaitement faisable en un temps raisonnable.\n",
      "\n",
      "\n",
      "Une technique souvent pr\u00e9sent\u00e9e consiste \u00e0 parier que la r\u00e9partition des lettres d'un sous-texte avant cryptage est proche de celle d'un texte ayant une signification *(de nouveau, cette conjecture demanderait \u00e0 \u00eatre test\u00e9e s\u00e9rieusement)*, puis \u00e0 \u00e9tudier les fr\u00e9quences d'apparition des lettres cod\u00e9es pour les comparer avec celles de lettres dans un corpus de textes fran\u00e7ais.\n",
      "Le caract\u00e8re de codage sera alors celui donnant des fr\u00e9quences ressemblant le plus \u00e0 celles du fran\u00e7ais. Ceci n'est pas simple \u00e0 impl\u00e9menter. En effet, comment programme-t-on le *\"ressemblant le plus \u00e0\"* ?\n",
      "\n",
      "\n",
      "Dans le chapitre 4 du livre *\"An introduction to mathematical cryptography\"*,  les auteurs J. Hoffstein, J. Pipher et J. H. Silverman pr\u00e9sentent un quantificateur $IndCo(\\text{une_chaine})$ appel\u00e9 indice de co\u00efncidence d'une cha\u00eene de caract\u00e8res qui v\u00e9rifie les deux propri\u00e9t\u00e9s suivantes.  \n",
      "\n",
      "1. $IndCo(\\text{une_chaine})$ est par d\u00e9finition la probalilit\u00e9 que deux caract\u00e8res choisis au hasard dans $\\text{une_chaine}$ soient identiques.\n",
      "\n",
      "1. Si $C_{lettre}$ d\u00e9signe le nombre d'apparition d'une lettre dans $\\text{une_chaine}$, alors nous avons la formule $\\displaystyle IndCo(\\text{une_chaine}) = \\frac{1}{n(n - 1)} \\sum_{lettre} C_{lettre} (C_{lettre} - 1)$ o\u00f9 $n$ est la taille de $\\text{une_chaine}$, la somme se faisant sur toutes les lettres apparaissant dans $\\text{une_chaine}$.\n",
      "\n",
      "On peut avec cet indicateur am\u00e9liorer la premi\u00e8re technique propos\u00e9e ci-dessus pour d\u00e9crypter un sous-texte. Il suffit d'appliquer la m\u00e9thodologie suivante qui est facile \u00e0 impl\u00e9menter.\n",
      "\n",
      "1. On calcule $IndCo$ pour un corpus de textes fran\u00e7ais. On obtient un nombre que nous appellerons $I_{fran\u00e7ais}$.\n",
      "\n",
      "1. Pour chaque lettre codante possible $\\text{c}$, on calcule l'indice de co\u00efncidence $I_\\text{c}$ pour le texte obtenu en d\u00e9codant notre sous-texte avec la cl\u00e9 $\\text{c}$. On obtient ainsi $26$ indices. On garde alors uniquement les lettres $\\text{c}$ telles que $I_\\text{c}$ soit assez proches de $I_{fran\u00e7ais}$ *(il suffit de choisir une marge d'erreur autoris\u00e9e, ou bien de ne garder par exemple que les trois indices les plus proches)*. De nouveau, nous parions sur le fait que la r\u00e9partition des lettres d'un sous-texte avant cryptage est proche de celle d'un texte ayant une signification.\n",
      "\n",
      "Ceci permet de r\u00e9duire le nombre de lettres possibles. Il reste alors \u00e0 cr\u00e9er toutes les cl\u00e9s possibles pour ne garder que celle qui fournira le plus de mots connus dans le texte d\u00e9crypt\u00e9. Si l'on garde \u00e0 chaque fois les trois lettres les plus probables pour une cl\u00e9 de longueur $20$, on r\u00e9duit fabuleusement le temps de calcul \u00e0 moins de deux secondes, toujours avec nos hypoth\u00e8ses excessives *(voir ci-apr\u00e8s)*. On peut donc esp\u00e9rer que cette m\u00e9thode soit r\u00e9ellement utilisable. "
     ]
    },
    {
     "cell_type": "code",
     "collapsed": false,
     "input": [
      "duree_en_secondes = 3**20 / (2.5*10**9)\n",
      "\n",
      "print(\"Dur\u00e9e en secondes :\", float(duree_en_secondes))"
     ],
     "language": "python",
     "metadata": {},
     "outputs": [
      {
       "output_type": "stream",
       "stream": "stdout",
       "text": [
        "Dur\u00e9e en secondes : 1.3947137604\n"
       ]
      }
     ],
     "prompt_number": 18
    },
    {
     "cell_type": "markdown",
     "metadata": {},
     "source": [
      "**Note : ** vous trouverez dans le livre *\"An introduction to mathematical cryptography\"* une autre m\u00e9thode simple \u00e0 impl\u00e9menter qui tire partie du lien entre les diff\u00e9rents sous-textes $ss\\_txt_1$, $ss\\_txt_2$, ... etc. Cette technique utilise un autre indicateur permettant de r\u00e9duire drastiquement le nombre de tests brutaux \u00e0 environ $26$ fois le nombre de couples $(ss\\_txt_i \\, , ss\\_txt_j)$ avec $i < j$. Ceci repr\u00e9sente un gain \u00e9norme de temps m\u00eame face \u00e0 la deuxi\u00e8me  technique pr\u00e9sent\u00e9e juste avant."
     ]
    }
   ],
   "metadata": {}
  }
 ]
}