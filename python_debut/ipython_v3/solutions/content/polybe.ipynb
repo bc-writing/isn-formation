{
 "metadata": {
  "kernelspec": {
   "display_name": "Python 3",
   "language": "python",
   "name": "python3"
  },
  "language_info": {
   "codemirror_mode": {
    "name": "ipython",
    "version": 3
   },
   "file_extension": ".py",
   "mimetype": "text/x-python",
   "name": "python",
   "nbconvert_exporter": "python",
   "pygments_lexer": "ipython3",
   "version": "3.4.3"
  },
  "name": "",
  "signature": "sha256:05b4fdee7ceec4eb96c9b1b8595fbff97658d706f6e2a1ffa7af6dc415448f2c"
 },
 "nbformat": 3,
 "nbformat_minor": 0,
 "worksheets": [
  {
   "cells": [
    {
     "cell_type": "markdown",
     "metadata": {
      "collapsed": true
     },
     "source": [
      "Carr\u00e9 de Polybe\n",
      "===============\n",
      "\n",
      "R\u00e9ouvrir la page principale\n",
      "---------------------------\n",
      "\n",
      "[Cliquer ici](../main.ipynb)\n",
      "\n",
      "\n",
      "\u00c0 vous de jouer : coder un texte \"\u00e0 la Polybe\"\n",
      "----------------------------------------------\n",
      "\n",
      "Nous redonnons le tableau pour coder nos textes.\n",
      "\n",
      "         1 | 2   | 3 | 4 | 5\n",
      "    ------------------------\n",
      "    1 || a | b   | c | d | e\n",
      "    2 || f | g   | h | i | j\n",
      "    3 || k | l   | m | n | o \n",
      "    4 || p | q   | r | s | t \n",
      "    5 || u | v,w | x | y | z \n",
      "\n",
      "\n",
      "Le programme suivant est une traduction directe de la technique de codage propos\u00e9 par Polybe. Rappelons que les espaces devaient \u00eatre cod\u00e9s par $00$. Notez l'utilisation de la \"pythonnerie\" `colonne, ligne = a, b` qui \u00e9quivaut \u00e0 l'emploi de `colonne = a` et `ligne = b`. Pour v\u00e9rifier notre programme, notons au passage que \"les\" est cod\u00e9 par `235144`."
     ]
    },
    {
     "cell_type": "code",
     "collapsed": false,
     "input": [
      "# ------------ #\n",
      "# -- CODAGE -- #\n",
      "# ------------ #\n",
      "\n",
      "ALPHABET = \"abcdefghijklmnopqrstuvwxyz\"\n",
      "\n",
      "\n",
      "CODAGE = {\" \": \"00\"}\n",
      "\n",
      "colonne, ligne = 0, 1\n",
      "\n",
      "for cara in ALPHABET:\n",
      "    if cara != \"w\":    \n",
      "        colonne += 1\n",
      "\n",
      "        if colonne == 6:\n",
      "            colonne, ligne = 1, ligne + 1\n",
      "\n",
      "    CODAGE[cara] = \"{0}{1}\".format(colonne, ligne)\n",
      "\n",
      "\n",
      "def code(texte):\n",
      "    \"\"\"\n",
      "Cette fonction crypte un texte via le code de Polybe.\n",
      "    \"\"\"\n",
      "    global CODAGE\n",
      "    \n",
      "    texte_code = \"\"\n",
      "\n",
      "    for cara in texte:\n",
      "        texte_code += CODAGE[cara]\n",
      "    \n",
      "    return texte_code\n",
      "\n",
      "\n",
      "# ----------------- #\n",
      "# -- APPLICATION -- #\n",
      "# ----------------- #\n",
      "\n",
      "texte      = \"les velibs de polybe\"\n",
      "texte_code = code(texte)\n",
      "\n",
      "print(texte_code)"
     ],
     "language": "python",
     "metadata": {},
     "outputs": [],
     "prompt_number": null
    },
    {
     "cell_type": "markdown",
     "metadata": {},
     "source": [
      "Nous retrouvons bien `235144` au d\u00e9but. Dans la section suivante, nous v\u00e9rifions plus s\u00e9rieusement la validit\u00e9 de ce code.\n",
      "\n",
      "\n",
      "Pour les plus rapides : d\u00e9coder un texte \"\u00e0 la Polybe\"\n",
      "------------------------------------------------------\n",
      "\n",
      "Rappelons que l'on sait que le codeur utilise $00$ pour les espaces, et que le texte initial ne contenait que des lettres minuscules non accentu\u00e9es et des espaces, et donc aucun caract\u00e8re sp\u00e9cial du type point, apostrophe, guillemet ouvrant... etc. Commen\u00e7ons par une premi\u00e8re proposition incompl\u00e8te car elle ne g\u00e8re pas le cas du \"v\" et du \"w\" : on choisit pour le moment de ne mettre que des \"v\"."
     ]
    },
    {
     "cell_type": "code",
     "collapsed": false,
     "input": [
      "# -------------- #\n",
      "# -- D\u00c9CODAGE -- #\n",
      "# -------------- #\n",
      "\n",
      "ALPHABET = \"abcdefghijklmnopqrstuvwxyz\"\n",
      "\n",
      "\n",
      "CODAGE = {\" \": \"00\"}\n",
      "\n",
      "colonne, ligne = 0, 1\n",
      "\n",
      "for cara in ALPHABET:\n",
      "    if cara != \"w\":    \n",
      "        colonne += 1\n",
      "\n",
      "        if colonne == 6:\n",
      "            colonne, ligne = 1, ligne + 1\n",
      "\n",
      "    CODAGE[cara] = \"{0}{1}\".format(colonne, ligne)\n",
      "\n",
      "\n",
      "DECODAGE = {}\n",
      "\n",
      "for cara, un_code in CODAGE.items():\n",
      "    # On ne garde pas le \"w\".\n",
      "    if un_code not in DECODAGE:\n",
      "        DECODAGE[un_code] = cara\n",
      "\n",
      "        \n",
      "def decode(texte_code):\n",
      "    \"\"\"\n",
      "Cette fonction d\u00e9code partiellement un texte cod\u00e9 via le code\n",
      "de Polybe. Le cas ambigu des \"v\" et des \"w\" n'est pas trait\u00e9\n",
      "ici, plus pr\u00e9cis\u00e9ment les mots ne contiendront aucun \"w\".\n",
      "    \"\"\"\n",
      "    global DECODAGE\n",
      "    \n",
      "    taille_texte = len(texte_code)\n",
      "    texte_decode = \"\"\n",
      "\n",
      "    for pos in range(0, taille_texte, 2):\n",
      "        un_code       = texte_code[pos:pos+2]\n",
      "        texte_decode += DECODAGE[un_code]\n",
      "\n",
      "    return texte_decode\n",
      "\n",
      "\n",
      "# ----------------- #\n",
      "# -- APPLICATION -- #\n",
      "# ----------------- #\n",
      "\n",
      "texte_code   = \"5451355451002142514300415131534151002134112553\"\n",
      "texte_decode = decode(texte_code)\n",
      "\n",
      "print('Texte cod\u00e9   : \"{0}\"'.format(texte_code))\n",
      "print('Texte d\u00e9cod\u00e9 : \"{0}\"'.format(texte_decode))"
     ],
     "language": "python",
     "metadata": {},
     "outputs": [
      {
       "output_type": "stream",
       "stream": "stdout",
       "text": [
        "Texte cod\u00e9   : \"5451355451002142514300415131534151002134112553\"\n",
        "Texte d\u00e9cod\u00e9 : \"texte bien decode bravo\"\n"
       ]
      }
     ],
     "prompt_number": 2
    },
    {
     "cell_type": "markdown",
     "metadata": {},
     "source": [
      "Ceci semble \u00eatre juste. V\u00e9rifions maintenant que le code trouv\u00e9 dans la premi\u00e8re section \u00e9tait bien le bon *(au passage, nous testons en fait nos deux programmes)*."
     ]
    },
    {
     "cell_type": "code",
     "collapsed": false,
     "input": [
      "texte_code   = \"2351440025512342214400415100145323452151\"\n",
      "texte_decode = decode(texte_code)\n",
      "\n",
      "print('Texte initial : \"les velibs de polybe\"')\n",
      "print('Texte d\u00e9cod\u00e9  : \"{0}\"'.format(texte_decode))"
     ],
     "language": "python",
     "metadata": {},
     "outputs": [
      {
       "output_type": "stream",
       "stream": "stdout",
       "text": [
        "Texte initial : \"les velibs de polybe\"\n",
        "Texte d\u00e9cod\u00e9  : \"les velibs de polybe\"\n"
       ]
      }
     ],
     "prompt_number": 3
    },
    {
     "cell_type": "markdown",
     "metadata": {},
     "source": [
      "Rassurant mais nous avons eu de la chance jusqu'ici car dans les textes initiaux n'appraissaient pas de \"w\". Il nous reste donc \u00e0 g\u00e9rer le cas d'un texte o\u00f9 appraissent des \"v\" et des \"w\". Le code suivant montre la faiblesse de la premi\u00e8re version de notre programme d\u00e9codeur. Indiquons au passage [cette page](http://www.listesdemots.fr/accueil.htm) qui permet d'obtenir des mots v\u00e9rifiant certaines propri\u00e9t\u00e9s. "
     ]
    },
    {
     "cell_type": "code",
     "collapsed": false,
     "input": [
      "# On suppose que touts les cellules pr\u00e9c\u00e9dentes ont \u00e9t\u00e9 ex\u00e9cut\u00e9es\n",
      "# par IPython. Ceci permet d'utiliser les fonctions code et decode.\n",
      "\n",
      "texte        = \"interview du wagon et de la voiture\"\n",
      "texte_code   = code(texte)\n",
      "texte_decode = decode(texte_code)\n",
      "\n",
      "print(\"Texte initial       :\", texte)\n",
      "print('Texte \"cod\u00e9-d\u00e9cod\u00e9\" :', texte_decode)"
     ],
     "language": "python",
     "metadata": {},
     "outputs": [
      {
       "output_type": "stream",
       "stream": "stdout",
       "text": [
        "Texte initial       : interview du wagon et de la voiture\n",
        "Texte \"cod\u00e9-d\u00e9cod\u00e9\" : interviev du vagon et de la voiture\n"
       ]
      }
     ],
     "prompt_number": 4
    },
    {
     "cell_type": "markdown",
     "metadata": {},
     "source": [
      "Rappelons la concrainte forte qui dit que les espaces sont cod\u00e9s par $00$. Ceci nous permet d'isoler facilement les mots dans notre texte d\u00e9cod\u00e9 imparfaitement. Nous allons donc construire une fonction qui pour chaque mot contenant des \"v\" tentera de retrouver un mot existant obtenu en rempla\u00e7ant certains \"v\" par des \"w\".  \u00c0 vous de voir comment fonctionne le code ci-apr\u00e8s *(notez au passage l'utilisation des m\u00e9thodes `split` et `join` des variables de type `str`, ainsi que l'emploi de `raise` pour envoyer un message d'erreur en cas d'\u00e9chec)*.\n",
      "\n",
      "**Remarque : ** nous restons dans le cas de mots sans accent mais \u00e9tendre le code ci-apr\u00e8s pour g\u00e9rer plus de caract\u00e8res n'est pas une t\u00e2che ardue."
     ]
    },
    {
     "cell_type": "code",
     "collapsed": false,
     "input": [
      "# On suppose que touts les cellules pr\u00e9c\u00e9dentes ont \u00e9t\u00e9 ex\u00e9cut\u00e9es\n",
      "# par IPython. Ceci permet d'utiliser les fonctions code et decode.\n",
      "\n",
      "# -------------------------------------------------- #\n",
      "# -- CHOISIR ENTRE \"V\" ET \"W\" (cf. \"Palindromes\") -- #\n",
      "# -------------------------------------------------- #\n",
      "\n",
      "MOTS_TOUT_EN_V = {}\n",
      "\n",
      "with open(\"motsfrancais_frgut.txt\", encoding=\"iso-8859-1\") as fichier:\n",
      "    for ligne in fichier:\n",
      "        mot = ligne.strip()\n",
      "        mot = mot.lower()\n",
      "        \n",
      "        if \"v\" in mot or \"w\" in mot:\n",
      "            mot_tout_en_v = mot.replace(\"w\", \"v\")\n",
      "            \n",
      "            if mot_tout_en_v in MOTS_TOUT_EN_V:\n",
      "                MOTS_TOUT_EN_V[mot_tout_en_v].append(mot)\n",
      "            else:\n",
      "                MOTS_TOUT_EN_V[mot_tout_en_v] = [mot]\n",
      "\n",
      "        \n",
      "def bonchoix_vw(texte):\n",
      "    \"\"\"\n",
      "Cette fonction tente de reconstruire un texte o\u00f9 tous les \"w\" \n",
      "ont \u00e9t\u00e9 remplac\u00e9s par des \"v\".\n",
      "    \"\"\"\n",
      "    global MOTS_TOUT_EN_V\n",
      "    \n",
      "    # On \"\u00e9clate\" le texte suivant chaque espace.\n",
      "    mots = texte.split(\" \")\n",
      "    \n",
      "    mots_trouves = []\n",
      "\n",
      "    for un_mot in mots:\n",
      "        if un_mot in MOTS_TOUT_EN_V:\n",
      "            mots_connus_associes = MOTS_TOUT_EN_V[un_mot]\n",
      "\n",
      "            if len(mots_connus_associes) > 1:\n",
      "                raise Exception(\"D\u00e9codage impossible !\")\n",
      "                \n",
      "            un_mot = mots_connus_associes[0]\n",
      "            \n",
      "        mots_trouves.append(un_mot)\n",
      "        \n",
      "    # On retourne le texte obtenu en \"collant\", avec un espace comme\n",
      "    # jointure, les mots contenus dans la variable mots_trouves. \n",
      "    return \" \".join(mots_trouves)\n",
      "            \n",
      "            \n",
      "# ----------------- #\n",
      "# -- APPLICATION -- #\n",
      "# ----------------- #\n",
      "\n",
      "texte      = \"interview du wagon et de la voiture\"\n",
      "texte_code = code(texte)\n",
      "\n",
      "texte_decode_partiellement = decode(texte_code)\n",
      "texte_decode_totalement    = bonchoix_vw(texte_decode_partiellement)\n",
      "\n",
      "\n",
      "print(\"Texte initial              :\", texte)\n",
      "print('Texte d\u00e9cod\u00e9 partiellement :', texte_decode_partiellement)\n",
      "print('Texte d\u00e9cod\u00e9 totalement    :', texte_decode_totalement)"
     ],
     "language": "python",
     "metadata": {},
     "outputs": [
      {
       "output_type": "stream",
       "stream": "stdout",
       "text": [
        "Texte initial              : interview du wagon et de la voiture\n",
        "Texte d\u00e9cod\u00e9 partiellement : interviev du vagon et de la voiture\n",
        "Texte d\u00e9cod\u00e9 totalement    : interview du wagon et de la voiture\n"
       ]
      }
     ],
     "prompt_number": 5
    }
   ],
   "metadata": {}
  }
 ]
}