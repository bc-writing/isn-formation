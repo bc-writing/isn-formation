{
 "metadata": {
  "kernelspec": {
   "display_name": "Python 3",
   "language": "python",
   "name": "python3"
  },
  "language_info": {
   "codemirror_mode": {
    "name": "ipython",
    "version": 3
   },
   "file_extension": ".py",
   "mimetype": "text/x-python",
   "name": "python",
   "nbconvert_exporter": "python",
   "pygments_lexer": "ipython3",
   "version": "3.4.3"
  },
  "name": "",
  "signature": "sha256:f9357105824020ecc62a4466dd4b3170a5c59f8881d5635715107a5d062d61ae"
 },
 "nbformat": 3,
 "nbformat_minor": 0,
 "worksheets": [
  {
   "cells": [
    {
     "cell_type": "markdown",
     "metadata": {},
     "source": [
      "Premiers pas avec Python - Des solutions possibles\n",
      "==================================================\n",
      "\n",
      "> **Version du 2015-10-25**\n",
      "\n",
      "\n",
      "Nous ne proposons que des solutions possibles et non les seules solutions possibles. Toute contribution est la bienvenue. \n",
      "\n",
      "\n",
      "**Note :** sauf mention contraire, les solutions propos\u00e9es sont dans des cellules autonomes, autrement dit elles n'utilisent pas des codes pr\u00e9sents dans des cellules ex\u00e9cut\u00e9es pr\u00e9c\u00e9demment par IPython.\n",
      "\n",
      "\n",
      "Licence\n",
      "-------\n",
      "\n",
      "Ce document est mis \u00e0 disposition selon les termes de la licence Creative Commons\n",
      "\u00ab Attribution - Pas d\u2019utilisation commerciale - Partage dans les m\u00eames conditions 4.0\n",
      "International \u00bb .\n",
      "\n",
      "<div style=\"text-align: center; margin-top:10px;\">\n",
      "    <img src=\"by-nc-sa.svg\">\n",
      "</div>\n",
      "\n",
      "Diff\u00e9rents formats de ce document sont disponibles sur github \u00e0 l'adresse [https://github.com/bc-writings-prog-python/isn-formation](https://github.com/bc-writings-prog-python/isn-formation).\n",
      "Voir le dossier `python_debut`.\n",
      "\n",
      "\n",
      "Le jour de la formation \n",
      "-----------------------\n",
      "\n",
      "1. [Un pendu pour se rassurer](content/pendu.ipynb)\n",
      "1. [Codes correcteurs](content/code_correcteur.ipynb)  \n",
      "1. [Palindromes](content/palindrome.ipynb)             \n",
      "1. [Chiffrement de C\u00e9sar](content/cesar.ipynb)         \n",
      "1. [Soundex](content/soundex.ipynb)\n",
      "\n",
      "\n",
      "Pour continuer \u00e0 progresser \n",
      "---------------------------\n",
      "\n",
      "1. [Carr\u00e9 de Polybe](content/polybe.ipynb)\n",
      "1. [Chiffrement de Vigen\u00e8re](content/vigenere.ipynb)"
     ]
    }
   ],
   "metadata": {}
  }
 ]
}