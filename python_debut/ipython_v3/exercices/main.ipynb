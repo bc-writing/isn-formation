{
 "metadata": {
  "kernelspec": {
   "display_name": "Python 3",
   "language": "python",
   "name": "python3"
  },
  "language_info": {
   "codemirror_mode": {
    "name": "ipython",
    "version": 3
   },
   "file_extension": ".py",
   "mimetype": "text/x-python",
   "name": "python",
   "nbconvert_exporter": "python",
   "pygments_lexer": "ipython3",
   "version": "3.4.3"
  },
  "name": "",
  "signature": "sha256:e36bb9e42ad1dd6904bf36dcb45af35fcbdb964a1e788b47479bc793c66c70d1"
 },
 "nbformat": 3,
 "nbformat_minor": 0,
 "worksheets": [
  {
   "cells": [
    {
     "cell_type": "markdown",
     "metadata": {},
     "source": [
      "Premiers pas avec Python\n",
      "========================\n",
      "\n",
      "> **Version du 2015-10-25**\n",
      "\n",
      "Comme nous ne pourrons pas apprendre \u00e0 programmer avec Python en 3 heures et demi, nous allons juste commencer par aborder quelques concepts de base autour des cha\u00eenes de caract\u00e8res, et de fa\u00e7on cach\u00e9e autour de l'\u00e9change de donn\u00e9es.\n",
      "\n",
      "Dans chaque section, **ce que nous attendons de vous c'est de faire les rubriques du type *\"\u00c0 vous de jouer\"* ** qui contiennent des exercices relativement simples, tandis que **celles du type *\"Pour les plus rapides\"* ne seront pas abord\u00e9es en formation**, sauf si le temps nous le permet, car elles contiennent des questions demandant un peu plus d'engagement.\n",
      "\n",
      "\n",
      "**Note :** nous mettrons en ligne des solutions classiques de tous les exercices avec en plus des solutions astucieuses s'appuyant sur quelques concepts avanc\u00e9s de Python. \n",
      "\n",
      "\n",
      "\n",
      "Licence\n",
      "-------\n",
      "\n",
      "Ce document est mis \u00e0 disposition selon les termes de la licence Creative Commons\n",
      "\u00ab Attribution - Pas d\u2019utilisation commerciale - Partage dans les m\u00eames conditions 4.0\n",
      "International \u00bb .\n",
      "\n",
      "<div style=\"text-align: center; margin-top:10px;\">\n",
      "    <img src=\"by-nc-sa.svg\">\n",
      "</div>\n",
      "\n",
      "Diff\u00e9rents formats de ce document sont disponibles pour le moment sur github \u00e0 l'adresse [https://github.com/projetmbc/books](https://github.com/projetmbc/books).\n",
      "Voir le dossier `program[mation]/python3/formation/isn/python_debut`.\n",
      "\n",
      "\n",
      "Le jour de la formation \n",
      "-----------------------\n",
      "\n",
      "1. [Un pendu pour se rassurer](content/pendu.ipynb)    *(20 min : traduire des algorithmes)*\n",
      "1. [Codes correcteurs](content/code_correcteur.ipynb)  *(30 min : liste)*\n",
      "1. [Palindromes](content/palindrome.ipynb)             *(30 min : texte et fichier)*\n",
      "1. [Chiffrement de C\u00e9sar](content/cesar.ipynb)         *(60 min : texte, liste, fichier, fonction et module)*\n",
      "1. [Soundex](content/soundex.ipynb)                    *(40 min : texte, liste ou dictionnaire, et fichier)*\n",
      "\n",
      "\n",
      "Pour continuer \u00e0 progresser \n",
      "---------------------------\n",
      "\n",
      "1. [Carr\u00e9 de Polybe](content/polybe.ipynb)             *(texte et liste ou dictionnaire de dimension 2)*\n",
      "1. [Chiffrement de Vigen\u00e8re](content/vigenere.ipynb)   *(texte et liste ou dictionnaire de dimension 2)*"
     ]
    }
   ],
   "metadata": {}
  }
 ]
}