{
 "metadata": {
  "kernelspec": {
   "display_name": "Python 3",
   "language": "python",
   "name": "python3"
  },
  "language_info": {
   "codemirror_mode": {
    "name": "ipython",
    "version": 3
   },
   "file_extension": ".py",
   "mimetype": "text/x-python",
   "name": "python",
   "nbconvert_exporter": "python",
   "pygments_lexer": "ipython3",
   "version": "3.4.3"
  },
  "name": "",
  "signature": "sha256:e381f533e71bc1cc03a364c8b79cded4c7fd07705aa09d4eb7116448973386fa"
 },
 "nbformat": 3,
 "nbformat_minor": 0,
 "worksheets": [
  {
   "cells": [
    {
     "cell_type": "markdown",
     "metadata": {
      "collapsed": true
     },
     "source": [
      "Un pendu pour se rassurer\n",
      "=========================\n",
      "\n",
      "R\u00e9ouvrir la page principale\n",
      "---------------------------\n",
      "\n",
      "[Cliquer ici](../main.ipynb)\n",
      "\n",
      "\n",
      "Rappel des r\u00e8gles du jeu du pendu\n",
      "---------------------------------\n",
      "\n",
      "Dans ce jeu, on doit deviner un mot. On dispose pour cela d'un nombre fini d'essais pour proposer des lettres qui seraient contenues dans le mot \u00e0 deviner. Si l'on trouve une lettre, on peut alors proposer une r\u00e9ponse.\n",
      "\n",
      "\n",
      "\u00c0 vous de jouer : traduire un algorithme en un programme Python\n",
      "---------------------------------------------------------------\n",
      "\n",
      "Nous vous proposons l'algorithme ci-dessous traduisant une version un peu modifi\u00e9e du jeu du pendu *(cette version souffre de quelques d\u00e9fauts mais peu importe)*. Nous utilisons les conventions suivantes dans la r\u00e9daction de notre algorithme.\n",
      "\n",
      "1. `a = b` symbolise l'\u00e9criture $a \\leftarrow b$ qui signifie que l'on affecte $b$ dans $a$.\n",
      "1. `VRAI` et `FAUX` sont des valeurs bool\u00e9ennes.\n",
      "1. Les doubles points `:...` sont une abr\u00e9viation de `faire:...` .\n",
      "1. Les blocs d'instruction sont mat\u00e9rialis\u00e9s par des blocs indent\u00e9s, ou d\u00e9cal\u00e9s si vous pr\u00e9f\u00e9rez.\n",
      "1. Les lignes commen\u00e7ant par le symbole sharp `#` sont des lignes de commentaires et non des instructions."
     ]
    },
    {
     "cell_type": "raw",
     "metadata": {
      "collapsed": false
     },
     "source": [
      "# Deux variables g\u00e9n\u00e9rales modifiables sans probl\u00e8me.\n",
      "MOT_A_DECOUVRIR = \"strangulation\"  # Mot en minuscules obligatoirement !\n",
      "NBRE_MAX_ESSAIS = 10\n",
      "\n",
      "# D\u00e9but de la partie.\n",
      "lettres_trouvees = Ensemble vide\n",
      "nbre_essais = 1\n",
      "a_gagne = FAUX\n",
      "\n",
      "Tant que a_gagne = FAUX et nbre_essais <= NBRE_MAX_ESSAIS:\n",
      "    # On indique au joueur o\u00f9 il en est.\n",
      "    # On d\u00e9finit un texte vide via \"\".\n",
      "    infos_mots = \"\"\n",
      "    \n",
      "    Pour chaque caract\u00e8re cara obtenu en parcourant MOT_A_DECOUVRIR\n",
      "    de gauche \u00e0 droite:\n",
      "        Si cara est dans l'ensemble lettres_trouvees:\n",
      "            Ajouter cara \u00e0 infos_mots\n",
      "        Sinon:\n",
      "            Ajouter le caract\u00e8re tiret \u00e0 infos_mots\n",
      "    \n",
      "    Afficher \"Essai n\u00b0\", nbre_essais, \"sur\", NBRE_MAX_ESSAIS\n",
      "    Afficher \"Mots \u00e0 trouver :\", infos_mots   \n",
      "\n",
      "    # On interroge le joueur.\n",
      "    Demander au joueur une lettre ou un mot.\n",
      "    Stocker sa r\u00e9ponse dans la variable une_proposition.\n",
      "    Mettre le contenu de une_proposition tout en minuscule.\n",
      "\n",
      "    # Une lettre du mot a \u00e9t\u00e9 trouv\u00e9e.\n",
      "    Si une_proposition est de longueur 1 et une_proposition\n",
      "    appara\u00eet dans le texte MOT_A_DECOUVRIR:\n",
      "        Afficher \"Une nouvelle lettre trouv\u00e9e.\"\n",
      "        Ajouter la lettre une_proposition \u00e0 l'ensemble \n",
      "        lettres_trouvees.\n",
      "        \n",
      "    # Une lettre n'a pas \u00e9t\u00e9 trouv\u00e9e. On consid\u00e8re dans \n",
      "    # ce cas que le joueur propose une r\u00e9ponse (on ne\n",
      "    # g\u00e8re pas les erreurs de saisie).\n",
      "    Sinon Si une_proposition = MOT_A_DECOUVRIR:\n",
      "        a_gagne = VRAI\n",
      "        \n",
      "    # Un esai de plus a \u00e9t\u00e9 effectu\u00e9.\n",
      "    nbre_essais = nbre_essais + 1\n",
      "\n",
      "# Tous les essais ont \u00e9t\u00e9 tent\u00e9s, et/ou le joueur a gagn\u00e9.\n",
      "Si a_gagne = VRAI:\n",
      "    Afficher \"Bravo ! Vous avez gagn\u00e9. Le mot \u00e9tait bien :\"\n",
      "Sinon:\n",
      "    Afficher \"Perdu ! Le mot \u00e9tait :\"\n",
      "\n",
      "Afficher MOT_A_DECOUVRIR"
     ]
    },
    {
     "cell_type": "markdown",
     "metadata": {},
     "source": [
      "Traduisons ensemble cet algorithme dans le langage Python en vous aidant si besoin du document [\"Bo\u00eete \u00e0 outils - Premiers pas avec Python 3\"](https://github.com/projetmbc/books/blob/master/program%5Bmation%5D/python3/toolboxes/fr/beginner/latex/main.pdf)."
     ]
    }
   ],
   "metadata": {}
  }
 ]
}